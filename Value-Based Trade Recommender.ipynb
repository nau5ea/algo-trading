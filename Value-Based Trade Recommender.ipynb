{
 "cells": [
  {
   "cell_type": "code",
   "execution_count": null,
   "metadata": {},
   "outputs": [],
   "source": [
    "\"\"\"\n",
    "this program is based on this tutorial: https://www.youtube.com/watch?v=xfzGZB4HhEE\n",
    "by freecodecamp. it executes batch calls to the IEX Cloud API to get data about the prices\n",
    "of stocks on the S&P 500. it recommends trades to the user by writing to an Excel\n",
    "sheet using the xlsxwriter, pandas, math, numpy, and requests libs.\n",
    "i am rewriting it here for the purpose of closer code explanation, and to remove\n",
    "the extra stuff included in the original file, code as well as supplementary\n",
    "explanation.\n",
    "\"\"\""
   ]
  },
  {
   "cell_type": "code",
   "execution_count": null,
   "metadata": {},
   "outputs": [],
   "source": [
    "#imports:\n",
    "import numpy as np\n",
    "import pandas as pd\n",
    "import requests\n",
    "import xlsxwriter\n",
    "import math"
   ]
  },
  {
   "cell_type": "code",
   "execution_count": null,
   "metadata": {},
   "outputs": [],
   "source": [
    "stocks = pd.read_csv('sp_500_stocks.csv') # this imports a list of stocks on the S&P 500 from this machine"
   ]
  },
  {
   "cell_type": "code",
   "execution_count": null,
   "metadata": {},
   "outputs": [],
   "source": [
    "from secrets import IEX_CLOUD_API_TOKEN # this imports the API token from IEX Cloud"
   ]
  },
  {
   "cell_type": "code",
   "execution_count": null,
   "metadata": {},
   "outputs": [],
   "source": [
    "# This creates a Pandas dataframe and puts our value metric, stock symbol columns into this data structure\n",
    "my_columns = ['Ticker', 'Stock Price', 'Market Capitalization', 'Number of Shares to Buy']\n",
    "#final_dataframe = pd.DataFrame(columns = my_columns) we don't need to initialize the dataframe yet\n",
    "#final_dataframe"
   ]
  },
  {
   "cell_type": "code",
   "execution_count": null,
   "metadata": {},
   "outputs": [],
   "source": [
    "# then we add the stock data (price, etc) to the dataframe via batch API calls\n",
    "# first we define a special function:\n",
    "def chunks(lst, n):\n",
    "    \"\"\"Yield successive n-sized chunks from lst.\"\"\"\n",
    "    for i in range(0, len(lst), n):\n",
    "        yield lst[i:i + n]"
   ]
  },
  {
   "cell_type": "code",
   "execution_count": null,
   "metadata": {},
   "outputs": [],
   "source": [
    "# then we add the stock symbols to the dataframe from the csv\n",
    "symbol_groups = list(chunks(stocks['Ticker'], 100))\n",
    "symbol_strings = []\n",
    "for i in range(0, len(symbol_groups)): # creates a list of stocks in string format from the csv\n",
    "    symbol_strings.append(','.join(symbol_groups[i]))\n",
    "final_dataframe = pd.DataFrame(columns = my_columns) # initializing the dataframe\n",
    "\n",
    "for symbol_string in symbol_strings: # executes batch API calls to fetch the real-time stock prices from IEX cloud\n",
    "    batch_api_call_url = f'https://sandbox.iexapis.com/stable/stock/market/batch?symbols={symbol_string}&types=quote&token={IEX_CLOUD_API_TOKEN}'\n",
    "    data = requests.get(batch_api_call_url).json()\n",
    "    for symbol in symbol_string.split(','):\n",
    "        final_dataframe = final_dataframe.append(# adds the \n",
    "        pd.Series(\n",
    "        [\n",
    "            symbol,\n",
    "            data[symbol]['quote']['latestPrice'],\n",
    "            data[symbol]['quote']['marketCap'],\n",
    "            'N/A'\n",
    "        ],\n",
    "        index = my_columns),\n",
    "        ignore_index = True\n",
    "    )\n",
    "final_dataframe"
   ]
  },
  {
   "cell_type": "code",
   "execution_count": null,
   "metadata": {},
   "outputs": [],
   "source": [
    "# now we ask user for how much money they want to invest\n",
    "portfolio_size = input('Enter the value of your portfolio: ')\n",
    "try:\n",
    "    val = float(portfolio_size)\n",
    "    print(val)\n",
    "except ValueError:\n",
    "    print('Please enter a numeric value.')\n",
    "    portfolio_size = input('Enter the value of your portfolio: ')\n",
    "    val = float(portfolio_size)\n",
    "# this is cool. never seen \"try/except\" before"
   ]
  },
  {
   "cell_type": "code",
   "execution_count": null,
   "metadata": {},
   "outputs": [],
   "source": [
    "# now we generate the relative amounts of each stock to buy, based on the user's investment size, and add them to dataframe\n",
    "position_size = val/len(final_dataframe.index)\n",
    "for i in range(0, len(final_dataframe.index)):\n",
    "    final_dataframe.loc[i, 'Number of Shares to Buy'] = math.floor(position_size/final_dataframe.loc[i, 'Stock Price'])\n",
    "#the .loc() method returns the rows/columns indexed by the second arg. this is a hard statement to read (visually), but it is quite simple mathematically"
   ]
  },
  {
   "cell_type": "code",
   "execution_count": null,
   "metadata": {},
   "outputs": [],
   "source": [
    "# now we generate the excel file which contains our output (trading recs)\n",
    "writer = pd.ExcelWriter('TradingRecs.xlsx', engine = 'xlsxwriter')\n",
    "final_dataframe.to_excel(writer, 'Trade Recommendations', index = False)\n",
    "# formatting the spreadsheet:\n",
    "background_color = '#0a0a23'\n",
    "font_color = '#ffffff'\n",
    "\n",
    "string_format = writer.book.add_format(\n",
    "    {\n",
    "        'font_color': font_color,\n",
    "        'bg_color': background_color,\n",
    "        'border_color': 1\n",
    "    }\n",
    ")\n",
    "\n",
    "dollar_format = writer.book.add_format(\n",
    "    {\n",
    "        'num_format': '$0.00',\n",
    "        'font_color': font_color,\n",
    "        'bg_color': background_color,\n",
    "        'border_color': 1\n",
    "    }\n",
    ")\n",
    "\n",
    "integer_format = writer.book.add_format(\n",
    "    {\n",
    "        'num_format': '0',\n",
    "        'font_color': font_color,\n",
    "        'bg_color': background_color,\n",
    "        'border_color': 1\n",
    "    }\n",
    ")\n",
    "\n",
    "column_formats = {\n",
    "    'A': ['Ticker', string_format],\n",
    "    'B': ['Stock Price', dollar_format],\n",
    "    'C': ['Market Cap', dollar_format],\n",
    "    'D': ['Shares to Buy', integer_format]\n",
    "}\n",
    "\n",
    "for column in column_formats.keys():\n",
    "    writer.sheets['Trade Recommendations'].set_column(f'{column}:{column}', 18, column_formats[column][1])\n",
    "    writer.sheets['Trade Recommendations'].write(f'{column}1', column_formats[column][0], column_formats[column][1])\n",
    "\n",
    "# and saving it:\n",
    "writer.save()"
   ]
  }
 ],
 "metadata": {
  "kernelspec": {
   "display_name": "Python 3",
   "language": "python",
   "name": "python3"
  },
  "language_info": {
   "codemirror_mode": {
    "name": "ipython",
    "version": 3
   },
   "file_extension": ".py",
   "mimetype": "text/x-python",
   "name": "python",
   "nbconvert_exporter": "python",
   "pygments_lexer": "ipython3",
   "version": "3.8.3"
  }
 },
 "nbformat": 4,
 "nbformat_minor": 4
}
